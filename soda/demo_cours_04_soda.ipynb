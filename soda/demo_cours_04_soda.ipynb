{
 "cells": [
  {
   "metadata": {},
   "cell_type": "markdown",
   "source": [
    "# Cours 5 : Démo soda-core\n",
    "soda-core est un cadriciel permettant de facilité les tests de qualité de donnée."
   ],
   "id": "13aa803c2a00cb"
  },
  {
   "metadata": {},
   "cell_type": "markdown",
   "source": [
    "###  Importer les dépendances\n",
    "NE PAS MODIFIER CETTE CELLULE."
   ],
   "id": "5b93aafdee074ba5"
  },
  {
   "metadata": {
    "collapsed": true
   },
   "cell_type": "code",
   "source": [
    "import pandas as pd\n",
    "from soda.scan import Scan\n",
    "\n",
    "# Cette méthode vous est donnée, ne la modifiez pas.\n",
    "def run_tests(dataframe_to_test: pd.DataFrame, checks_file_path: str, dataset_name: str):\n",
    "    scan = Scan()\n",
    "    datasource_name = \"datasource\"\n",
    "    scan.set_data_source_name(datasource_name)\n",
    "    scan.add_pandas_dataframe(\n",
    "        dataset_name=dataset_name,\n",
    "        pandas_df=dataframe_to_test,\n",
    "        data_source_name=datasource_name\n",
    "    )\n",
    "    scan.add_sodacl_yaml_file(checks_file_path)\n",
    "    scan.execute()"
   ],
   "id": "initial_id",
   "outputs": [],
   "execution_count": null
  },
  {
   "metadata": {},
   "cell_type": "markdown",
   "source": "### Créer le dataframe df_accounts à partir du fichier CSV",
   "id": "dd6f059c53913ad8"
  },
  {
   "metadata": {},
   "cell_type": "code",
   "source": "df_accounts = pd.read_csv(\"../data/accounts.csv\")",
   "id": "c21066b668635",
   "outputs": [],
   "execution_count": null
  },
  {
   "metadata": {},
   "cell_type": "markdown",
   "source": [
    "### 2. Développons nos tests de qualité de données\n",
    "\n"
   ],
   "id": "c680c5338fb465aa"
  },
  {
   "metadata": {},
   "cell_type": "code",
   "source": "run_tests(df_accounts, \"quality_checks.yml\", \"dataset\")\n",
   "id": "a835cc263685655e",
   "outputs": [],
   "execution_count": null
  }
 ],
 "metadata": {
  "kernelspec": {
   "display_name": "Python 3",
   "language": "python",
   "name": "python3"
  },
  "language_info": {
   "codemirror_mode": {
    "name": "ipython",
    "version": 2
   },
   "file_extension": ".py",
   "mimetype": "text/x-python",
   "name": "python",
   "nbconvert_exporter": "python",
   "pygments_lexer": "ipython2",
   "version": "2.7.6"
  }
 },
 "nbformat": 4,
 "nbformat_minor": 5
}
