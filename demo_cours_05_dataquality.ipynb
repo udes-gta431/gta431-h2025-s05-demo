{
 "cells": [
  {
   "metadata": {},
   "cell_type": "markdown",
   "source": "# Cours 5 - Qualité des données",
   "id": "e43d3d539825b071"
  },
  {
   "metadata": {
    "collapsed": true
   },
   "cell_type": "code",
   "source": "import pandas as pd",
   "id": "initial_id",
   "outputs": [],
   "execution_count": null
  },
  {
   "metadata": {},
   "cell_type": "code",
   "source": "df = pd.read_csv('data/accounts.csv')",
   "id": "cf1218fb4d3cdf42",
   "outputs": [],
   "execution_count": null
  },
  {
   "metadata": {},
   "cell_type": "markdown",
   "source": [
    "## 1. Identifier les erreurs\n",
    "### 1.1 Identifier les valeurs nulles\n",
    "#### 1.1.1 Pour un Dataframe\n",
    "Retourne un dataframe de la même taille, avec dans chaque cellule la réponse à si elle est nulle ou non."
   ],
   "id": "2505839aa5102526"
  },
  {
   "metadata": {},
   "cell_type": "code",
   "source": "df.isnull()",
   "id": "19e7c8e53211da47",
   "outputs": [],
   "execution_count": null
  },
  {
   "metadata": {},
   "cell_type": "markdown",
   "source": "#### 1.1.2 Pour une colonne\n",
   "id": "efc40955a07c2791"
  },
  {
   "metadata": {},
   "cell_type": "code",
   "source": "df.account_type.isnull()",
   "id": "15bc5eea1162816c",
   "outputs": [],
   "execution_count": null
  },
  {
   "metadata": {},
   "cell_type": "markdown",
   "source": [
    "### 1.2 Identifier les valeurs dupliquées\n",
    "#### 1.2.1 Pour un Dataframe"
   ],
   "id": "ed408741be2dc8fd"
  },
  {
   "metadata": {},
   "cell_type": "code",
   "source": "df[df.duplicated()]",
   "id": "4d23d9c3a84bdcbc",
   "outputs": [],
   "execution_count": null
  },
  {
   "metadata": {},
   "cell_type": "markdown",
   "source": "#### 1.2.2 Pour une colonne\n",
   "id": "88c1d340deffeb3a"
  },
  {
   "metadata": {},
   "cell_type": "code",
   "source": "df[df.duplicated(subset=[\"account_id\"])]",
   "id": "52206d4c00fcb72d",
   "outputs": [],
   "execution_count": null
  },
  {
   "metadata": {},
   "cell_type": "markdown",
   "source": "#### 1.2.3 Pour n colonnes",
   "id": "e8500a938d0ebc2c"
  },
  {
   "metadata": {},
   "cell_type": "code",
   "source": "df[df.duplicated(subset=[\"account_id\", \"account_type\"])]",
   "id": "ab8fb75940c51c53",
   "outputs": [],
   "execution_count": null
  },
  {
   "metadata": {},
   "cell_type": "markdown",
   "source": [
    "### 1.3 Identifier les valeurs uniques pour une colonne\n",
    "#### 1.3.1 Sous forme d'une liste"
   ],
   "id": "d92fcdf0c9505c64"
  },
  {
   "metadata": {},
   "cell_type": "code",
   "source": "df.account_type.unique()",
   "id": "92c98d9b5c3dce21",
   "outputs": [],
   "execution_count": null
  },
  {
   "metadata": {},
   "cell_type": "markdown",
   "source": "#### 1.3.2 Sous forme d'un Dataframe avec le nombre d'occurences",
   "id": "4d1f29dba1beae75"
  },
  {
   "metadata": {},
   "cell_type": "code",
   "source": "df.account_type.value_counts()",
   "id": "79404117d0ed81bc",
   "outputs": [],
   "execution_count": null
  },
  {
   "metadata": {},
   "cell_type": "markdown",
   "source": [
    "## 2. Corriger les erreurs\n",
    "### 2.1 Remplacer des valeurs dans une colonne avec .replace"
   ],
   "id": "4e9f5512bc75657f"
  },
  {
   "metadata": {},
   "cell_type": "code",
   "source": [
    "# crée une copie pour ne pas corriger l'original directement à des fins de démo\n",
    "df_replace = df.copy()\n",
    "\n",
    "df_replace.account_type = df_replace.account_type.replace({\"Savingss\": \"Savings\"})\n",
    "\n",
    "# pour voir l'effet sur account_type\n",
    "df_replace.account_type.value_counts()"
   ],
   "id": "a5cffb21e3f471df",
   "outputs": [],
   "execution_count": null
  },
  {
   "metadata": {},
   "cell_type": "markdown",
   "source": "### 2.2 Remplacer des valeurs dans une colonne avec *map*\n",
   "id": "5b32986b2122e1e5"
  },
  {
   "metadata": {},
   "cell_type": "code",
   "source": [
    "# crée une copie pour ne pas corriger l'original directement à des fins de démo\n",
    "df_map = df.copy()\n",
    "\n",
    "# pour les transformations simples qui ne touchent qu'une seule colonne\n",
    "df_map.branch_id = df_map.branch_id.map(lambda _id: int(_id if pd.notna(_id) else -1))\n",
    "\n",
    "# pour voir l'effet sur branch_id\n",
    "df_map.head()"
   ],
   "id": "ad42636563a46ebb",
   "outputs": [],
   "execution_count": null
  },
  {
   "metadata": {},
   "cell_type": "markdown",
   "source": "### 2.3 Remplacer des N/A par une autre valeur\n",
   "id": "3011aa8a50074e46"
  },
  {
   "metadata": {},
   "cell_type": "code",
   "source": [
    "# crée une copie pour ne pas corriger l'original directement à des fins de démo\n",
    "df_fillna = df.copy()\n",
    "\n",
    "df_fillna.branch_id = df_fillna.branch_id.fillna(-1)\n",
    "\n",
    "# pour voir l'effet sur branch_id\n",
    "df_fillna[df_fillna.branch_id == -1]"
   ],
   "id": "fcfc8bb993e099d4",
   "outputs": [],
   "execution_count": null
  },
  {
   "metadata": {},
   "cell_type": "markdown",
   "source": [
    "### 2.4 Supprimer les rangées qui ont une colonne qui est NA\n",
    "On précise le paramètre subset, qui est une liste de noms de colonnes pour lesquelles on veut valider que les valeurs ne sont pas NA."
   ],
   "id": "14b209d5b100e792"
  },
  {
   "metadata": {},
   "cell_type": "code",
   "source": [
    "# crée une copie pour ne pas corriger l'original directement à des fins de démo\n",
    "df_dropna = df.copy()\n",
    "\n",
    "df_dropna= df_dropna.dropna(subset=[\"branch_id\"])\n",
    "\n",
    "# pour voir l'effet sur branch_id\n",
    "df_dropna[df_dropna.branch_id.isna()]\n"
   ],
   "id": "dd4b659515c2bb78",
   "outputs": [],
   "execution_count": null
  },
  {
   "metadata": {},
   "cell_type": "markdown",
   "source": "### 2.5 Supprimer les duplicats qui ont une colonne qui est NA\n",
   "id": "c6b0b2973b666e29"
  },
  {
   "metadata": {},
   "cell_type": "code",
   "source": [
    "# crée une copie pour ne pas corriger l'original directement à des fins de démo\n",
    "df_drop_duplicates = df.copy()\n",
    "\n",
    "df_drop_duplicates = df_drop_duplicates.drop_duplicates(subset=['branch_id'])\n",
    "\n",
    "# pour voir l'effet sur branch_id\n",
    "df_drop_duplicates[df_drop_duplicates.duplicated(subset=[\"branch_id\"])]"
   ],
   "id": "282baf440b9fee78",
   "outputs": [],
   "execution_count": null
  },
  {
   "metadata": {},
   "cell_type": "markdown",
   "source": "### 2.6 Borner les valeurs d'une colonne à une plage min-max",
   "id": "d960007587dc9970"
  },
  {
   "metadata": {},
   "cell_type": "code",
   "source": [
    "# crée une copie pour ne pas corriger l'original directement à des fins de démo\n",
    "df_clip = df.copy()\n",
    "\n",
    "df_clip.balance = df_clip.balance.clip(lower=0, upper=10000)\n",
    "\n",
    "# pour voir l'effet sur balance\n",
    "df_clip"
   ],
   "id": "b787a64e68601211",
   "outputs": [],
   "execution_count": null
  },
  {
   "metadata": {},
   "cell_type": "markdown",
   "source": [
    "### 2.7 Modifier la valeur d'une colonne en fonction d'un filtre\n",
    "Cette méthode modifie toutes les valeurs pour lesquelles le filtre a évalué à True\n",
    "\n",
    "#### 2.7.1 Exemple 1:"
   ],
   "id": "c5a1771f2eb7bf6b"
  },
  {
   "metadata": {},
   "cell_type": "code",
   "source": [
    "# crée une copie pour ne pas corriger l'original directement à des fins de démo\n",
    "df_a = df.copy()\n",
    "\n",
    "df_a.loc[(df_a.balance < 0), \"balance\"] = 0\n",
    "\n",
    "# pour voir l'effet sur balance\n",
    "df_a"
   ],
   "id": "49092f4fa8eab1c0",
   "outputs": [],
   "execution_count": null
  },
  {
   "metadata": {},
   "cell_type": "markdown",
   "source": "#### 2.7.2 Exemple 2:\n",
   "id": "cccdcbd09106d0bb"
  },
  {
   "metadata": {},
   "cell_type": "code",
   "source": [
    "# crée une copie pour ne pas corriger l'original directement à des fins de démo\n",
    "df_b = df.copy()\n",
    "\n",
    "df_b.loc[df_b.currency_code.str.endswith(\"USD\"), \"currency_code\"] = \"USD\"\n",
    "df_b.loc[df_b.currency_code.str.contains(\"EUR\"), \"currency_code\"] = \"EUR\"\n",
    "df_b.loc[df_b.currency_code.str.startswith(\"CAN\"), \"currency_code\"] = \"CAD\"\n",
    "\n",
    "# pour voir l'effet sur balance\n",
    "df_b.currency_code.value_counts()"
   ],
   "id": "b12e49a3e7ace106",
   "outputs": [],
   "execution_count": null
  }
 ],
 "metadata": {
  "kernelspec": {
   "display_name": "Python 3",
   "language": "python",
   "name": "python3"
  },
  "language_info": {
   "codemirror_mode": {
    "name": "ipython",
    "version": 2
   },
   "file_extension": ".py",
   "mimetype": "text/x-python",
   "name": "python",
   "nbconvert_exporter": "python",
   "pygments_lexer": "ipython2",
   "version": "2.7.6"
  }
 },
 "nbformat": 4,
 "nbformat_minor": 5
}
